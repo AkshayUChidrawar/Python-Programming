{
 "cells": [
  {
   "cell_type": "code",
   "execution_count": 94,
   "metadata": {},
   "outputs": [],
   "source": [
    "def printfile (fname):\n",
    "    f = open(fname)\n",
    "    x = f.read()\n",
    "    print (x, end=\"\")\n",
    "    f.close()\n",
    "\n",
    "def countchar (fname):\n",
    "    f = open(fname)\n",
    "    sum = 0\n",
    "    for line in f:\n",
    "        sum = sum + len(line)\n",
    "    return sum\n",
    "    f.close()\n",
    "\n",
    "def problem3_1(txtfile):\n",
    "    printfile(txtfile)\n",
    "    print('\\n')\n",
    "    s = countchar(txtfile)\n",
    "    print('There are',s ,'letters in the file.', end=\"\")"
   ]
  },
  {
   "cell_type": "code",
   "execution_count": 95,
   "metadata": {},
   "outputs": [
    {
     "name": "stdout",
     "output_type": "stream",
     "text": [
      "Humpty Dumpty sat on a wall,\n",
      "Humpty Dumpty had a great fall.\n",
      "All the king's horses and all the king's men\n",
      "Couldn't put Humpty together again.\n",
      "\n",
      "There are 141 letters in the file."
     ]
    }
   ],
   "source": [
    "problem3_1('E:\\coursera\\week3\\hd.txt')"
   ]
  },
  {
   "cell_type": "code",
   "execution_count": 80,
   "metadata": {},
   "outputs": [],
   "source": [
    "nlis = [23,64,23,46,12,24]          # list\n",
    "atup = (\"c\",\"e\",\"a\",\"d\",\"b\")        # tuple\n",
    "str1 = \"Rumplestilskin\"             # string\n",
    "\n",
    "def problem3_2(collection):\n",
    "    for item in collection:\n",
    "        print (item)"
   ]
  },
  {
   "cell_type": "code",
   "execution_count": 84,
   "metadata": {},
   "outputs": [
    {
     "name": "stdout",
     "output_type": "stream",
     "text": [
      "23\n",
      "64\n",
      "23\n",
      "46\n",
      "12\n",
      "24\n"
     ]
    }
   ],
   "source": [
    "problem3_2(nlis)"
   ]
  },
  {
   "cell_type": "code",
   "execution_count": 58,
   "metadata": {},
   "outputs": [],
   "source": [
    "# \" \" or ' ' gives a white space\n",
    "m = (\"January\", \"February\", \"March\",\"April\", \"May\", \"June\", \"July\", \"August\", \"September\", \"October\", \"November\", \"December\")\n",
    "def problem3_3(month, day, year):\n",
    "    mon = m[month-1]\n",
    "    d = str(day)\n",
    "    com = ','\n",
    "    y = str(year)\n",
    "    date = mon + ' '+ d+ com + ' '+ y\n",
    "    print  (date)\n",
    "    #print (mon, day,',',year)"
   ]
  },
  {
   "cell_type": "code",
   "execution_count": 59,
   "metadata": {},
   "outputs": [
    {
     "name": "stdout",
     "output_type": "stream",
     "text": [
      "December 31, 2016\n"
     ]
    }
   ],
   "source": [
    "problem3_3(12,31,2016)"
   ]
  },
  {
   "cell_type": "code",
   "execution_count": 65,
   "metadata": {},
   "outputs": [],
   "source": [
    "def problem3_4(mon, day, year):\n",
    "    mont = str (m.index(mon) + 1)\n",
    "    d = str(day)\n",
    "    y = str(year)\n",
    "    date = mont + '/' + d + '/' + y\n",
    "    print (date)\n"
   ]
  },
  {
   "cell_type": "code",
   "execution_count": 68,
   "metadata": {},
   "outputs": [
    {
     "name": "stdout",
     "output_type": "stream",
     "text": [
      "7/17/2016\n"
     ]
    }
   ],
   "source": [
    "problem3_4(\"July\",17, 2016)"
   ]
  },
  {
   "cell_type": "code",
   "execution_count": 3,
   "metadata": {},
   "outputs": [],
   "source": [
    "phone_numbers = {\"abbie\":\"(860) 123-4535\", \"beverly\":\"(901) 454-3241\",\"james\": \"(212) 567-8149\", \"thomas\": \"(795) 342-9145\"}\n",
    "def problem3_5(name):\n",
    "    PN = str (phone_numbers[name])\n",
    "    print (PN)"
   ]
  },
  {
   "cell_type": "code",
   "execution_count": 4,
   "metadata": {},
   "outputs": [],
   "source": [
    "def problem3_52(name):   \n",
    "    print (phone_numbers[name])"
   ]
  },
  {
   "cell_type": "code",
   "execution_count": 6,
   "metadata": {},
   "outputs": [
    {
     "name": "stdout",
     "output_type": "stream",
     "text": [
      "(212) 567-8149\n"
     ]
    }
   ],
   "source": [
    "problem3_52('james')"
   ]
  },
  {
   "cell_type": "code",
   "execution_count": 73,
   "metadata": {},
   "outputs": [
    {
     "name": "stdout",
     "output_type": "stream",
     "text": [
      "(795) 342-9145\n"
     ]
    }
   ],
   "source": [
    "problem3_5(\"thomas\")"
   ]
  },
  {
   "cell_type": "code",
   "execution_count": 75,
   "metadata": {},
   "outputs": [
    {
     "data": {
      "text/plain": [
       "'(795) 342-9145'"
      ]
     },
     "execution_count": 75,
     "metadata": {},
     "output_type": "execute_result"
    }
   ],
   "source": [
    "phone_numbers[\"thomas\"]"
   ]
  },
  {
   "cell_type": "code",
   "execution_count": 1,
   "metadata": {},
   "outputs": [],
   "source": [
    "#with keyword is equivalent to open(). Also, it does not require to include the close() command.\n",
    "\"\"\"python print() function by default ends with newline. So, if we want to continue on same line, \n",
    "we use end = '' which means that end character should be a white space & not a new line. So, next \n",
    "print statement continues on same line. Also, you can use the \\n character to put the contents of \n",
    "same print statement on diferent lines [ if you use a single print statement- \n",
    "print ('First line \\n Second line') ]\"\"\"\n",
    "\n",
    "\"\"\"The reader function takes each line (row) of the input csv file and, (for each row) makes individual\n",
    "list of all its columns' values. Then, you just choose the column you want the variable data for.\"\"\"\n",
    "\n",
    "import csv\n",
    "\n",
    "def problem3_7(pricefile,flowername):\n",
    "    with open(pricefile) as csvfile:\n",
    "        reader = csv.reader(csvfile)\n",
    "        for row in reader:\n",
    "               print(row)\n",
    "               if flowername in row[0]:\n",
    "                   print(row[1])"
   ]
  },
  {
   "cell_type": "code",
   "execution_count": 2,
   "metadata": {},
   "outputs": [
    {
     "name": "stdout",
     "output_type": "stream",
     "text": [
      "['petunia', '5.95']\n",
      "['alyssum', '3.95']\n",
      "['begonia', '5.95']\n",
      "['sunflower', '5.95']\n",
      "['coelius', '4.95']\n",
      "4.95\n"
     ]
    }
   ],
   "source": [
    "\"\"\"\\b \\f etx are escape characters, never use single\\ in a path. Use / or // or \\\\ all work. \n",
    "Else it Errorno. 22 Invalid argument\"\"\"\n",
    "\n",
    "problem3_7('E:\\\\coursera\\\\week3\\\\flowers.csv','coelius')"
   ]
  },
  {
   "cell_type": "code",
   "execution_count": null,
   "metadata": {},
   "outputs": [],
   "source": [
    "# csv file commands\n",
    "\n",
    "import csv\n",
    "\n",
    "infile = open(filename, 'r')         # For reading. An open file locks other applications out\n",
    "rows = csv.reader(infile)            # Read at once\n",
    "\n",
    "\"\"\"Reads a CSV file and..  \"\"\"\n",
    "for row in csv.reader(f):\n",
    "    print(row)                       # prints each row, which is a list.\n",
    "    data.append(row)                 # appending to a list. \n",
    "print (data)\n",
    "\n",
    "f = open(filename, 'w', newline='')  # Open for writing\n",
    "csv.writer(f).writerows(rowlist)     # Write all rows at once\n",
    "csv.writer(f).writerow(row)          # Write one row\n",
    "f.close()                            # Close an open file"
   ]
  },
  {
   "cell_type": "code",
   "execution_count": null,
   "metadata": {},
   "outputs": [],
   "source": [
    "#this code will write all the records from the given list to the mycsv.csv file at once, in csv \n",
    "#format. No update, only one time write.\n",
    "\n",
    "L = [['Date', 'Name', 'Notes'], \n",
    "         ['2016/1/18', 'Martin Luther King Day', 'Federal Holiday'],\n",
    "         ['2016/2/2','Groundhog Day', 'Observance'], \n",
    "         ['2016/2/8','Chinese New Year', 'Observance'], \n",
    "         ['2016/2/14','Valentine\\'s Day', 'Obervance'], \n",
    "         ['2016/5/8','Mother\\'s Day', 'Observance'], \n",
    "         ['2016/8/19','Statehood Day', 'Hawaii Holiday'], \n",
    "         ['2016/10/28','Nevada Day', 'Nevada Holiday']]\n",
    "    \n",
    "def write_csv(filename):\n",
    "    import csv\n",
    "    f = open(filename, 'w', newline='')\n",
    "    for item in L:\n",
    "        csv.writer(f).writerow(item)\n",
    "    f.close()"
   ]
  },
  {
   "cell_type": "code",
   "execution_count": null,
   "metadata": {},
   "outputs": [],
   "source": [
    "write_csv('E:\\\\coursera\\\\week3\\\\csv files\\\\mycsv.csv')"
   ]
  },
  {
   "cell_type": "code",
   "execution_count": null,
   "metadata": {},
   "outputs": [],
   "source": [
    "#this code will update the existing csv file (phones.csv) with new phone records, without \n",
    "#overwriting. The file is opened in append mode(a).\n",
    "\n",
    "import csv\n",
    "def write_phone(fname):\n",
    "    while True:        \n",
    "        row = []\n",
    "        nextname = input(\"Enter name, press return to end: \")\n",
    "        if (nextname == ''):\n",
    "            break\n",
    "        else:\n",
    "            print(nextname)\n",
    "            nextnum = input(\"Enter number: \")\n",
    "            print(nextnum)\n",
    "            row.append(nextname)\n",
    "            row.append(nextnum)\n",
    "            f = open('E:\\\\coursera\\\\week3\\\\csv files\\\\phones.csv', 'a', newline='')\n",
    "            cw = csv.writer(f)            \n",
    "            cw.writerow(row)\n",
    "            f.close()"
   ]
  },
  {
   "cell_type": "code",
   "execution_count": null,
   "metadata": {},
   "outputs": [],
   "source": [
    "write_phone('E:\\\\coursera\\\\week3\\\\csv files\\\\phones.csv')"
   ]
  },
  {
   "cell_type": "code",
   "execution_count": 1,
   "metadata": {},
   "outputs": [],
   "source": [
    "# the code Reads a CSV file and prints each row, which is a list\n",
    "import csv\n",
    "def read_csv_file(filename):    \n",
    "    f = open(filename)\n",
    "    for row in csv.reader(f):\n",
    "        print(row)\n",
    "    f.close()"
   ]
  },
  {
   "cell_type": "code",
   "execution_count": 2,
   "metadata": {
    "collapsed": true
   },
   "outputs": [
    {
     "name": "stdout",
     "output_type": "stream",
     "text": [
      "['Beckert, Sven', 'Empire of Cotton', 'history']\n",
      "['Buckley, Carla', 'The Deepest Secret', 'mystery']\n",
      "['Carcaterra, Lorenzo', 'Chasers', 'mystery']\n",
      "['Catton, Bruce', 'The Army of the Potomac: The Glory Road', 'military']\n",
      "['Cohen, Gabriel', 'The Ninth Step', 'mystery']\n",
      "['Darwin, Charles', 'Origin of Species', 'science']\n",
      "['Ho, Yong', 'China: An Illustrated History', 'history']\n",
      "['James, Henry', 'Daisy Miller', 'novel']\n",
      "['Larsson, Stieg', 'The Girl who played with fire', 'novel']\n",
      "['Lewis, Michael', \"Liar's Poker: rising through the wreckage on Wall Street\", 'economics']\n",
      "['Messenger, Bill', 'Elements of Jazz: From Cakewalks to Fusion', 'music']\n",
      "['Paulos, John Allen', 'Innumeracy', 'mathematics']\n",
      "['Penzler, Otto, ed.', 'Murder at the Racetrack ', 'mystery']\n",
      "['Pintoff, Stefanie', 'Secret of the White Rose', 'mystery']\n",
      "['Post, Robert C.', 'Democracy, Expertise, Academic Freedom', 'law']\n",
      "['Solzhenitsyn, Alexander', 'One Day in the Life of Ivan Denisovich', 'novel']\n",
      "['Torrence, Bruce F. and Eve A.', \"The Student's Introduction to Mathematica\", 'mathematics']\n",
      "['Woods, Stewart', 'Mounting Fears', 'novel']\n"
     ]
    }
   ],
   "source": [
    "read_csv_file('E:\\\\coursera\\\\week3\\\\csv files\\\\BooksRead.csv')"
   ]
  },
  {
   "cell_type": "code",
   "execution_count": null,
   "metadata": {
    "collapsed": true
   },
   "outputs": [],
   "source": [
    "# the code Reads a CSV file and prints each row element individually, not in list format.\n",
    "def read_csv_file2(filename):    \n",
    "    f = open(filename)\n",
    "    for row in csv.reader(f):\n",
    "        print(row[0],row[1], row[2])\n",
    "    f.close()"
   ]
  },
  {
   "cell_type": "code",
   "execution_count": null,
   "metadata": {},
   "outputs": [],
   "source": [
    "read_csv_file2('E:\\\\coursera\\\\week3\\\\csv files\\\\BooksRead.csv')"
   ]
  },
  {
   "cell_type": "code",
   "execution_count": null,
   "metadata": {},
   "outputs": [],
   "source": []
  },
  {
   "cell_type": "code",
   "execution_count": null,
   "metadata": {},
   "outputs": [],
   "source": [
    "namelist = [\"George\", \"Sally\", \"Catherine\", \"James\", \"Peggy\"]\n",
    "mytuple = (\"George\",\"Sally\",\"Catherine\")\n",
    "agedict = {\"George\":\"17\",\"Sally\":\"19\", \"Catherine\":\"18\"}"
   ]
  },
  {
   "cell_type": "code",
   "execution_count": null,
   "metadata": {},
   "outputs": [],
   "source": [
    "print(namelist[1]) # yes or no\n",
    "print(mytuple[1]) # yes or no\n",
    "print(agedict['Sally']) # yes or no"
   ]
  },
  {
   "cell_type": "code",
   "execution_count": null,
   "metadata": {},
   "outputs": [],
   "source": [
    "namelist.append(\"Rod\") # yes or no\n",
    "print(namelist)"
   ]
  },
  {
   "cell_type": "code",
   "execution_count": null,
   "metadata": {},
   "outputs": [],
   "source": [
    "namelist[1]=\"Rod\" # yes or no\n",
    "agedict[\"Rod\"]=\"23\" \n",
    "print(namelist)\n",
    "print(agedict)"
   ]
  },
  {
   "cell_type": "code",
   "execution_count": null,
   "metadata": {},
   "outputs": [],
   "source": [
    "print(mytuple)"
   ]
  },
  {
   "cell_type": "code",
   "execution_count": null,
   "metadata": {},
   "outputs": [],
   "source": [
    "mytuple.append(\"Rod\") # yes or no\n",
    "\n",
    "mytuple[3] = \"Rod\" # yes or no\n",
    "print(mytuple)"
   ]
  },
  {
   "cell_type": "code",
   "execution_count": null,
   "metadata": {},
   "outputs": [],
   "source": [
    "a = (1, 2, 3)\n",
    "b = a + (4, 5, 6)\n",
    "print (b)"
   ]
  },
  {
   "cell_type": "code",
   "execution_count": null,
   "metadata": {},
   "outputs": [],
   "source": [
    "f= open ('E:\\\\coursera\\\\week3\\\\hd.txt', 'r')\n",
    "reader = f.read()\n",
    "print (reader)"
   ]
  },
  {
   "cell_type": "code",
   "execution_count": null,
   "metadata": {},
   "outputs": [],
   "source": [
    "def count_words(filename):\n",
    "    \"\"\" Makes a list of the words in the file filename and the number of times\n",
    "    each word appears. This program is modified from one by Mark Summerfield in\n",
    "    his excellent book, \"Programming in Python 3\" \"\"\"\n",
    "        \n",
    "    text_file = open(filename)     # open the file for reading\n",
    "    \n",
    "    # Set up an empty dictionary to start a standard design pattern loop\n",
    "    words_dic = {}\n",
    "    \n",
    "    # This loop adds each word to the dictionary and updates its count. Change \n",
    "    # all words to lower case so Horse and horse are seen as the same word.\n",
    "    for line in text_file:         # step through each line in the text file\n",
    "        for word in line.lower().split():   # split into a list of words\n",
    "            word = word.strip(\"'?,.;!-/\\\"\") # strip out the stuff we ignore\n",
    "            if word not in words_dic:\n",
    "                words_dic[word] = 1      # add word to words with 0 count\n",
    "            else:\n",
    "                words_dic[word] = words_dic[word] + 1    # add 1 to the count\n",
    "    \n",
    "    text_file.close() \n",
    "                   \n",
    "    # Sorts the dictionary words into a list and then print them out\n",
    "    print(\"List of words in the file with number of times each appears.\")\n",
    "    word_list = sorted(words_dic)\n",
    "    for word in word_list:\n",
    "        print(words_dic[word], word)\n"
   ]
  },
  {
   "cell_type": "code",
   "execution_count": null,
   "metadata": {},
   "outputs": [],
   "source": [
    "count_words('E:\\\\coursera\\\\week3\\\\hd.txt')"
   ]
  }
 ],
 "metadata": {
  "kernelspec": {
   "display_name": "Python 3",
   "language": "python",
   "name": "python3"
  },
  "language_info": {
   "codemirror_mode": {
    "name": "ipython",
    "version": 3
   },
   "file_extension": ".py",
   "mimetype": "text/x-python",
   "name": "python",
   "nbconvert_exporter": "python",
   "pygments_lexer": "ipython3",
   "version": "3.6.5"
  }
 },
 "nbformat": 4,
 "nbformat_minor": 2
}
