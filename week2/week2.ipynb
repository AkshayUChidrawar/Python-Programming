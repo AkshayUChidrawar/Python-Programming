{
 "cells": [
  {
   "cell_type": "code",
   "execution_count": 6,
   "metadata": {},
   "outputs": [],
   "source": [
    "def problem2_1():\n",
    "    lis = list(range(20,30))\n",
    "    print (lis[3])\n",
    "    print (lis)\n",
    "    n = len(lis)\n",
    "    for each in range(0,n):\n",
    "        print (lis[each], end=\" \")"
   ]
  },
  {
   "cell_type": "code",
   "execution_count": 7,
   "metadata": {},
   "outputs": [
    {
     "name": "stdout",
     "output_type": "stream",
     "text": [
      "23\n",
      "[20, 21, 22, 23, 24, 25, 26, 27, 28, 29]\n",
      "20 21 22 23 24 25 26 27 28 29 "
     ]
    }
   ],
   "source": [
    "problem2_1()"
   ]
  },
  {
   "cell_type": "code",
   "execution_count": 11,
   "metadata": {},
   "outputs": [],
   "source": [
    "alist = [\"a\",\"e\",\"i\",\"o\",\"u\",\"y\"]\n",
    "blist = [\"alpha\", \"beta\", \"gamma\", \"delta\", \"epsilon\", \"eta\", \"theta\"] \n",
    "\n",
    "def problem2_2(my_list):\n",
    "    print (my_list)\n",
    "    print (my_list[0])\n",
    "    print (my_list[-1])\n",
    "    end= len(my_list)\n",
    "    print(my_list[3:5])\n",
    "    print(my_list[0:3])\n",
    "    print(my_list[3:end])\n",
    "    print (end)\n",
    "    my_list.append('z')\n",
    "    print (my_list)"
   ]
  },
  {
   "cell_type": "code",
   "execution_count": 12,
   "metadata": {},
   "outputs": [
    {
     "name": "stdout",
     "output_type": "stream",
     "text": [
      "['a', 'e', 'i', 'o', 'u', 'y']\n",
      "a\n",
      "y\n",
      "['o', 'u']\n",
      "['a', 'e', 'i']\n",
      "['o', 'u', 'y']\n",
      "6\n",
      "['a', 'e', 'i', 'o', 'u', 'y', 'z']\n"
     ]
    }
   ],
   "source": [
    "problem2_2(alist)"
   ]
  },
  {
   "cell_type": "code",
   "execution_count": 32,
   "metadata": {},
   "outputs": [],
   "source": [
    "India = ['Mumbai', 'New Delhi', 'Kolkata', 'Chennai']\n",
    "\n",
    "def problem2_3(my_list):\n",
    "    size =[]\n",
    "    for each in my_list:\n",
    "        size.append(len(each))\n",
    "    for element in range(0, len(my_list)):\n",
    "        print(my_list[element], \"has\", size[element], \"letters.\")"
   ]
  },
  {
   "cell_type": "code",
   "execution_count": 35,
   "metadata": {},
   "outputs": [
    {
     "name": "stdout",
     "output_type": "stream",
     "text": [
      "Mumbai has 6 letters\n",
      "New Delhi has 9 letters\n",
      "Kolkata has 7 letters\n",
      "Chennai has 7 letters\n"
     ]
    }
   ],
   "source": [
    "problem2_3(India)"
   ]
  },
  {
   "cell_type": "code",
   "execution_count": 68,
   "metadata": {},
   "outputs": [],
   "source": [
    "# seed acts as an identifier for the list, generated of random numbers. When we use seed function, every time we run the python \n",
    "# script, it will generate the same set of random numbers. \n",
    "import random\n",
    "def problem2_4():\n",
    "    random.seed(70)                 \n",
    "    num = []\n",
    "    for each in range (0, 10):\n",
    "        b = random.random()*5\n",
    "        n = 30 + b\n",
    "        num.append(n)\n",
    "    print (num)"
   ]
  },
  {
   "cell_type": "code",
   "execution_count": 69,
   "metadata": {},
   "outputs": [
    {
     "name": "stdout",
     "output_type": "stream",
     "text": [
      "[34.54884618961936, 31.470395203793395, 32.297169396656095, 30.681793552717807, 34.97530360173135, 30.773219981037737, 33.36969776732032, 32.990127772708405, 33.57311858494461, 32.052629620057274]\n"
     ]
    }
   ],
   "source": [
    "problem2_4()"
   ]
  },
  {
   "cell_type": "code",
   "execution_count": 70,
   "metadata": {},
   "outputs": [
    {
     "name": "stdout",
     "output_type": "stream",
     "text": [
      "[34.54884618961936, 31.470395203793395, 32.297169396656095, 30.681793552717807, 34.97530360173135, 30.773219981037737, 33.36969776732032, 32.990127772708405, 33.57311858494461, 32.052629620057274]\n"
     ]
    }
   ],
   "source": [
    "problem2_4()"
   ]
  },
  {
   "cell_type": "code",
   "execution_count": 75,
   "metadata": {},
   "outputs": [],
   "source": [
    "import random\n",
    "def problem2_5():\n",
    "    random.seed(171)\n",
    "    for each in range (0, 10):\n",
    "        k=random.randint(1,6)\n",
    "        print (k)"
   ]
  },
  {
   "cell_type": "code",
   "execution_count": 76,
   "metadata": {},
   "outputs": [
    {
     "name": "stdout",
     "output_type": "stream",
     "text": [
      "5\n",
      "4\n",
      "4\n",
      "1\n",
      "5\n",
      "4\n",
      "6\n",
      "2\n",
      "4\n",
      "3\n"
     ]
    }
   ],
   "source": [
    "problem2_5()"
   ]
  },
  {
   "cell_type": "code",
   "execution_count": 79,
   "metadata": {},
   "outputs": [],
   "source": [
    "import random\n",
    "def problem2_6():\n",
    "    random.seed(82)\n",
    "    for each in range (0, 10):\n",
    "        k1=random.randint(1,6)\n",
    "        k2=random.randint(1,6)\n",
    "        print (k1 + k2)"
   ]
  },
  {
   "cell_type": "code",
   "execution_count": 80,
   "metadata": {},
   "outputs": [
    {
     "name": "stdout",
     "output_type": "stream",
     "text": [
      "6\n",
      "8\n",
      "4\n",
      "9\n",
      "3\n",
      "8\n",
      "6\n",
      "5\n",
      "7\n",
      "5\n"
     ]
    }
   ],
   "source": [
    "problem2_6()"
   ]
  },
  {
   "cell_type": "code",
   "execution_count": 37,
   "metadata": {},
   "outputs": [],
   "source": [
    "def problem2_7():\n",
    "    \"\"\" computes area of triangle using Heron's formula. \"\"\"\n",
    "    s1 = float(input (\"Enter length of side one:\"))\n",
    "    s2 = float(input (\"Enter length of side two:\"))\n",
    "    s3 = float(input (\"Enter length of side three:\"))\n",
    "    s= .5*(s1 + s2 + s3)\n",
    "    k = s*(s-s1)*(s-s2)*(s-s3)\n",
    "    A = k**.5\n",
    "    print (\"Area of a triangle with sides\",s1, s2, s3, \"is\",A)"
   ]
  },
  {
   "cell_type": "code",
   "execution_count": 39,
   "metadata": {},
   "outputs": [
    {
     "name": "stdout",
     "output_type": "stream",
     "text": [
      "Enter the length of side one:9\n",
      "Enter the length of side two:12\n",
      "Enter the length of side three:15\n",
      "Area of a triangle with sides 9.0 12.0 15.0 is 54.0\n"
     ]
    }
   ],
   "source": [
    "problem2_7()"
   ]
  },
  {
   "cell_type": "code",
   "execution_count": 28,
   "metadata": {},
   "outputs": [],
   "source": [
    "hourly_temp = [40.0, 39.0, 37.0, 34.0, 33.0, 34.0, 36.0, 37.0, 38.0, 39.0, \\\n",
    "               40.0, 41.0, 44.0, 45.0, 47.0, 48.0, 45.0, 42.0, 39.0, 37.0, \\\n",
    "               36.0, 35.0, 33.0, 32.0]\n",
    "\n",
    "def problem2_8(temp_list):\n",
    "    temp_list.sort()\n",
    "    n = len(temp_list)\n",
    "    sum = 0\n",
    "    for each in range(0,n):\n",
    "        sum = sum + temp_list[each]\n",
    "    avg = sum/n\n",
    "    print (\"Average:\", avg)\n",
    "    print (\"High:\", temp_list[-1])\n",
    "    print (\"Low:\", temp_list[0])"
   ]
  },
  {
   "cell_type": "code",
   "execution_count": 29,
   "metadata": {},
   "outputs": [
    {
     "name": "stdout",
     "output_type": "stream",
     "text": [
      "Average: 38.791666666666664\n",
      "High: 48.0\n",
      "Low: 32.0\n"
     ]
    }
   ],
   "source": [
    "problem2_8(hourly_temp)"
   ]
  }
 ],
 "metadata": {
  "kernelspec": {
   "display_name": "Python 3",
   "language": "python",
   "name": "python3"
  },
  "language_info": {
   "codemirror_mode": {
    "name": "ipython",
    "version": 3
   },
   "file_extension": ".py",
   "mimetype": "text/x-python",
   "name": "python",
   "nbconvert_exporter": "python",
   "pygments_lexer": "ipython3",
   "version": "3.6.5"
  }
 },
 "nbformat": 4,
 "nbformat_minor": 2
}
