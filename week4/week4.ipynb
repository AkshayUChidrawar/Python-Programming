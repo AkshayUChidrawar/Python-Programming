{
 "cells": [
  {
   "cell_type": "code",
   "execution_count": 4,
   "metadata": {},
   "outputs": [],
   "source": [
    "def problem4_1(wordlist):\n",
    "    print (wordlist)\n",
    "    wordlist.sort(key=str.lower)\n",
    "    print (wordlist)"
   ]
  },
  {
   "cell_type": "code",
   "execution_count": 5,
   "metadata": {},
   "outputs": [
    {
     "name": "stdout",
     "output_type": "stream",
     "text": [
      "['Happy', 'families', 'are', 'all', 'alike;', 'every', 'unhappy', 'family', 'is', 'unhappy', 'in', 'its', 'own', 'way.', 'Leo Tolstoy', 'Anna Karenina']\n",
      "['alike;', 'all', 'Anna Karenina', 'are', 'every', 'families', 'family', 'Happy', 'in', 'is', 'its', 'Leo Tolstoy', 'own', 'unhappy', 'unhappy', 'way.']\n"
     ]
    }
   ],
   "source": [
    "wlist = ['Happy', 'families', 'are', 'all', 'alike;', 'every', 'unhappy', 'family',\n",
    " 'is', 'unhappy', 'in', 'its', 'own', 'way.', 'Leo Tolstoy', 'Anna Karenina']\n",
    "problem4_1(wlist)"
   ]
  },
  {
   "cell_type": "code",
   "execution_count": 3,
   "metadata": {},
   "outputs": [],
   "source": [
    "import random\n",
    "numList = []\n",
    "random.seed(150)\n",
    "for i in range(0,25):\n",
    "    numList.append(round(100*random.random(),1))\n",
    "\n",
    "import statistics\n",
    "def problem4_2(ran_list):\n",
    "    print (statistics.mean(ran_list))\n",
    "    print (statistics.stdev(ran_list))\n",
    "    "
   ]
  },
  {
   "cell_type": "code",
   "execution_count": 4,
   "metadata": {},
   "outputs": [
    {
     "name": "stdout",
     "output_type": "stream",
     "text": [
      "51.528\n",
      "30.81215290541488\n"
     ]
    }
   ],
   "source": [
    "problem4_2(numList)"
   ]
  },
  {
   "cell_type": "code",
   "execution_count": 15,
   "metadata": {},
   "outputs": [],
   "source": [
    "def problem4_3(product, cost):\n",
    "    print (\"{0:25}\".format(product), end = '')\n",
    "    print (\"${0:6.2f}\".format(cost))"
   ]
  },
  {
   "cell_type": "code",
   "execution_count": 16,
   "metadata": {},
   "outputs": [
    {
     "name": "stdout",
     "output_type": "stream",
     "text": [
      "toothbrush               $  2.65\n"
     ]
    }
   ],
   "source": [
    "problem4_3(\"toothbrush\",2.645454454242454211)"
   ]
  }
 ],
 "metadata": {
  "kernelspec": {
   "display_name": "Python 3",
   "language": "python",
   "name": "python3"
  },
  "language_info": {
   "codemirror_mode": {
    "name": "ipython",
    "version": 3
   },
   "file_extension": ".py",
   "mimetype": "text/x-python",
   "name": "python",
   "nbconvert_exporter": "python",
   "pygments_lexer": "ipython3",
   "version": "3.6.5"
  }
 },
 "nbformat": 4,
 "nbformat_minor": 2
}
