{
 "cells": [
  {
   "cell_type": "code",
   "execution_count": 1,
   "metadata": {},
   "outputs": [],
   "source": [
    "def problem1_1():\n",
    "    print (\"Problem Set 1\")"
   ]
  },
  {
   "cell_type": "code",
   "execution_count": 8,
   "metadata": {},
   "outputs": [
    {
     "name": "stdout",
     "output_type": "stream",
     "text": [
      "Problem Set 1\n"
     ]
    }
   ],
   "source": [
    "problem1_1()"
   ]
  },
  {
   "cell_type": "code",
   "execution_count": 2,
   "metadata": {},
   "outputs": [],
   "source": [
    "def problem1_2(x,y):\n",
    "    print (x+y)\n",
    "    print (x*y) "
   ]
  },
  {
   "cell_type": "code",
   "execution_count": 10,
   "metadata": {},
   "outputs": [
    {
     "name": "stdout",
     "output_type": "stream",
     "text": [
      "7\n",
      "12\n"
     ]
    }
   ],
   "source": [
    "problem1_2(3, 4)"
   ]
  },
  {
   "cell_type": "code",
   "execution_count": 3,
   "metadata": {},
   "outputs": [],
   "source": [
    "def problem1_3(n):\n",
    "    my_sum = 0\n",
    "    i = 1\n",
    "    while i < n+1:\n",
    "        my_sum = my_sum + i\n",
    "        i = i + 1\n",
    "    print (my_sum)"
   ]
  },
  {
   "cell_type": "code",
   "execution_count": 11,
   "metadata": {},
   "outputs": [
    {
     "name": "stdout",
     "output_type": "stream",
     "text": [
      "55\n"
     ]
    }
   ],
   "source": [
    "problem1_3(10)"
   ]
  },
  {
   "cell_type": "code",
   "execution_count": 4,
   "metadata": {},
   "outputs": [],
   "source": [
    "def problem1_4(miles):\n",
    "    f = 5280 * miles\n",
    "    print (\"There are\", f,\"feet in\", miles,\"miles.\")"
   ]
  },
  {
   "cell_type": "code",
   "execution_count": null,
   "metadata": {},
   "outputs": [],
   "source": []
  },
  {
   "cell_type": "code",
   "execution_count": 5,
   "metadata": {},
   "outputs": [],
   "source": [
    "def problem1_5(age):\n",
    "    if age < 7:\n",
    "        print(\"Have a glass of milk.\")\n",
    "    elif age < 21:\n",
    "        print(\"Have a coke.\")\n",
    "    else:\n",
    "        print(\"Have a martini.\")  "
   ]
  },
  {
   "cell_type": "code",
   "execution_count": 6,
   "metadata": {},
   "outputs": [],
   "source": [
    "def problem1_6():\n",
    "    for n in range (1,100,2):\n",
    "        print(n, end = \" \")"
   ]
  },
  {
   "cell_type": "code",
   "execution_count": 7,
   "metadata": {},
   "outputs": [],
   "source": [
    "def problem1_7():\n",
    "    b1 = float(input (\"Enter the length of one of the bases:\"))\n",
    "    b2 = float(input (\"Enter the length of the other base:\"))\n",
    "    h = float(input (\"Enter the height:\"))\n",
    "    A = (1/2)*(b1+b2)*h \n",
    "    print (\"The area of a trapezoid with bases\",b1,\"and\",b2,\"and height\",h,\"is\",A)"
   ]
  },
  {
   "cell_type": "code",
   "execution_count": null,
   "metadata": {},
   "outputs": [],
   "source": []
  },
  {
   "cell_type": "code",
   "execution_count": null,
   "metadata": {},
   "outputs": [],
   "source": []
  }
 ],
 "metadata": {
  "kernelspec": {
   "display_name": "Python 3",
   "language": "python",
   "name": "python3"
  },
  "language_info": {
   "codemirror_mode": {
    "name": "ipython",
    "version": 3
   },
   "file_extension": ".py",
   "mimetype": "text/x-python",
   "name": "python",
   "nbconvert_exporter": "python",
   "pygments_lexer": "ipython3",
   "version": "3.6.5"
  }
 },
 "nbformat": 4,
 "nbformat_minor": 2
}
